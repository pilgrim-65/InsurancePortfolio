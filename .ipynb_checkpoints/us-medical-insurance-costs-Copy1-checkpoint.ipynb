{
 "cells": [
  {
   "cell_type": "markdown",
   "metadata": {},
   "source": [
    "# U.S. Medical Insurance Costs"
   ]
  },
  {
   "cell_type": "markdown",
   "metadata": {},
   "source": [
    "## Project objectives"
   ]
  },
  {
   "cell_type": "markdown",
   "metadata": {},
   "source": [
    "- Find out the average age of the patients in the dataset.\n",
    "- Analyze where a majority of the individuals are from.\n",
    "- Look at the different costs between smokers vs. non-smokers.\n",
    "- Figure out what the average age is for someone who has at least one child in this dataset."
   ]
  },
  {
   "cell_type": "code",
   "execution_count": 4,
   "metadata": {},
   "outputs": [],
   "source": [
    "import csv\n",
    "from collections import defaultdict"
   ]
  },
  {
   "cell_type": "markdown",
   "metadata": {},
   "source": [
    "Usually this would be easier using Pandas library, but we are suposed to use csv instead. \n",
    "We read the data using the csv.DictReader, and each row of data with a dictionary of the corresponding insured person is saved in the list insured[]."
   ]
  },
  {
   "cell_type": "code",
   "execution_count": 5,
   "metadata": {},
   "outputs": [
    {
     "name": "stdout",
     "output_type": "stream",
     "text": [
      "{'age': 19, 'sex': 'female', 'bmi': 27.9, 'children': 0, 'smoker': 'yes', 'region': 'southwest', 'charges': 16884.92}\n",
      "{'age': 18, 'sex': 'male', 'bmi': 33.8, 'children': 1, 'smoker': 'no', 'region': 'southeast', 'charges': 1725.55}\n",
      "{'age': 28, 'sex': 'male', 'bmi': 33.0, 'children': 3, 'smoker': 'no', 'region': 'southeast', 'charges': 4449.46}\n",
      "{'age': 33, 'sex': 'male', 'bmi': 22.7, 'children': 0, 'smoker': 'no', 'region': 'northwest', 'charges': 21984.47}\n",
      "{'age': 32, 'sex': 'male', 'bmi': 28.9, 'children': 0, 'smoker': 'no', 'region': 'northwest', 'charges': 3866.86}\n"
     ]
    }
   ],
   "source": [
    "insured = []\n",
    "with open('insurance.csv', newline = '') as data_file:\n",
    "    reader = csv.DictReader(data_file, delimiter = ',')\n",
    "    for row in reader:\n",
    "        row['age'] = int(row['age'])\n",
    "        row['bmi'] = round(float(row['bmi']),1)\n",
    "        row['children'] = int(row['children'])\n",
    "        row['charges'] = round(float(row['charges']),2)\n",
    "        insured.append(row)\n",
    "for i in range(5):\n",
    "    print(insured[i])"
   ]
  },
  {
   "cell_type": "markdown",
   "metadata": {},
   "source": [
    "## Calculate the average age"
   ]
  },
  {
   "cell_type": "code",
   "execution_count": 6,
   "metadata": {},
   "outputs": [
    {
     "name": "stdout",
     "output_type": "stream",
     "text": [
      "39.2\n"
     ]
    }
   ],
   "source": [
    "average_age = round(sum(person['age'] for person in insured) / len(insured), 1)\n",
    "print(average_age)"
   ]
  },
  {
   "cell_type": "markdown",
   "metadata": {},
   "source": [
    "## Calculate some statistics by region"
   ]
  },
  {
   "cell_type": "markdown",
   "metadata": {},
   "source": [
    "First of all, we build a new dictionary with the function build_by_region. \n",
    "It takes a parameter, insured_people, that is a list of dictionaries with insured people data.\n",
    "It returns a dictionary, in which the keys are the regions and each value is a list with the dictionaries of data corresponding to insured people. "
   ]
  },
  {
   "cell_type": "code",
   "execution_count": 7,
   "metadata": {},
   "outputs": [],
   "source": [
    "def build_by_region(insured_people):\n",
    "    insured_by_region = defaultdict(list)\n",
    "    for person in insured:\n",
    "        insured_by_region[person['region']].append(person)\n",
    "    return insured_by_region"
   ]
  },
  {
   "cell_type": "markdown",
   "metadata": {},
   "source": [
    "And now we call the function."
   ]
  },
  {
   "cell_type": "code",
   "execution_count": 10,
   "metadata": {},
   "outputs": [],
   "source": [
    "insured_by_region = build_by_region(insured)"
   ]
  },
  {
   "cell_type": "markdown",
   "metadata": {},
   "source": [
    "Now we perform the calculation of some estatistics for each region. We save the calculations in a dictionary stats_summary{}. \n",
    "In stats_summary the key is the region, and the corresponding value is a new dictionary with the stats."
   ]
  },
  {
   "cell_type": "code",
   "execution_count": 15,
   "metadata": {},
   "outputs": [],
   "source": [
    "def stats_calculation(insured_people):\n",
    "    \"\"\"Insured_people: a list of dictionaries with the data of insured people.\n",
    "    The function returns a dictionary with the calculations performed.\"\"\"\n",
    "    num_of_people = len(insured_people)\n",
    "    average_age = int(sum([person['age'] for person in insured_people]) / num_of_people)\n",
    "    smokers = [person for person in insured_people if person['smoker'] == 'yes']\n",
    "    non_smokers = [person for person in insured_people if person['smoker'] == 'no']\n",
    "    num_smokers, num_non_smokers = len(smokers), len(non_smokers)\n",
    "    smokers_ratio = round(num_smokers / num_of_people, 4)\n",
    "    smoker_cost = round(sum([person['charges'] for person in smokers]) / num_smokers, 2)\n",
    "    non_smoker_cost = round(sum([person['charges'] for person in non_smokers]) / num_non_smokers, 2)\n",
    "    num_of_parents = len([person for person in insured_people if person['children'] > 0])\n",
    "    age_of_parents = round(sum([person['age'] for person in insured_people if person['children'] > 0]) /\\\n",
    "                     num_of_parents,1)\n",
    "    \n",
    "    stats = {'num_of_people': num_of_people, 'average_age': average_age, \n",
    "                             'smokers_ratio': smokers_ratio, 'non_smoker_cost': non_smoker_cost, \n",
    "                             'smoker_cost': smoker_cost, 'age_of_parents': age_of_parents, \n",
    "                             'num_of_parents':num_of_parents}\n",
    "    return stats\n",
    "\n",
    "stats_by_region = {}\n",
    "\n",
    "for region in insured_by_region:\n",
    "    stats_by_region[region] = stats_calculation(insured_by_region[region])\n",
    "stats_by_region['Total'] = stats_calculation(insured)\n"
   ]
  },
  {
   "cell_type": "markdown",
   "metadata": {},
   "source": [
    "Now we have the calculations in the stats_by_region{} dictionary and we can print out the results"
   ]
  },
  {
   "cell_type": "code",
   "execution_count": 16,
   "metadata": {},
   "outputs": [
    {
     "name": "stdout",
     "output_type": "stream",
     "text": [
      "southwest\n",
      "---------\n",
      "num_of_people   average_age     smokers_ratio   non_smoker_cost smoker_cost     age_of_parents  num_of_parents  \n",
      "      325             39            0.1785          8019.28        32269.06          40.0             187       \n",
      "\n",
      "southeast\n",
      "---------\n",
      "num_of_people   average_age     smokers_ratio   non_smoker_cost smoker_cost     age_of_parents  num_of_parents  \n",
      "      364             38             0.25           8032.22         34845.0          39.8             207       \n",
      "\n",
      "northwest\n",
      "---------\n",
      "num_of_people   average_age     smokers_ratio   non_smoker_cost smoker_cost     age_of_parents  num_of_parents  \n",
      "      325             39            0.1785          8556.46         30192.0          39.5             193       \n",
      "\n",
      "northeast\n",
      "---------\n",
      "num_of_people   average_age     smokers_ratio   non_smoker_cost smoker_cost     age_of_parents  num_of_parents  \n",
      "      324             39            0.2068          9165.53        29673.54          39.7             177       \n",
      "\n",
      "Total\n",
      "-----\n",
      "num_of_people   average_age     smokers_ratio   non_smoker_cost smoker_cost     age_of_parents  num_of_parents  \n",
      "     1338             39            0.2048          8434.27        32050.23          39.8             764       \n",
      "\n"
     ]
    }
   ],
   "source": [
    "    \n",
    "for region in stats_by_region:\n",
    "    print(region)\n",
    "    print('-'*len(region))\n",
    "    for key in stats_by_region[region].keys():\n",
    "        print(f'{key:15}', end = ' ')\n",
    "    print()\n",
    "    for val in stats_by_region[region].values():\n",
    "            print(f'{val:^15}', end = ' ')\n",
    "    print('\\n')"
   ]
  },
  {
   "cell_type": "code",
   "execution_count": null,
   "metadata": {},
   "outputs": [],
   "source": []
  }
 ],
 "metadata": {
  "kernelspec": {
   "display_name": "Python 3 (ipykernel)",
   "language": "python",
   "name": "python3"
  },
  "language_info": {
   "codemirror_mode": {
    "name": "ipython",
    "version": 3
   },
   "file_extension": ".py",
   "mimetype": "text/x-python",
   "name": "python",
   "nbconvert_exporter": "python",
   "pygments_lexer": "ipython3",
   "version": "3.8.8"
  }
 },
 "nbformat": 4,
 "nbformat_minor": 4
}
